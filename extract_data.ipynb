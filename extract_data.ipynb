{
 "cells": [
  {
   "cell_type": "code",
   "execution_count": null,
   "metadata": {},
   "outputs": [],
   "source": [
    "from io import StringIO\n",
    "from html.parser import HTMLParser     \n",
    "        \n",
    "class StackOverflowParser(HTMLParser):\n",
    "    def __init__(self):\n",
    "        super().__init__()\n",
    "        self.strict = False # If any invalid html is encountered, parser will make a best guess at its intention\n",
    "        self.convert_charrefs= True # Hold data section until next tag is encountered\n",
    "        \n",
    "        # Field variable to keep track of parsed data with tags removed\n",
    "        self.text = StringIO()\n",
    "        self.text_no_code = StringIO()\n",
    "        \n",
    "        # Field variables to keep track of and store <code></code> blocks\n",
    "        self.code_blocks = []\n",
    "        self.lasttag = None\n",
    "        \n",
    "    def handle_starttag(self, tag, attrs):\n",
    "        '''\n",
    "        Method inherited from HTMLParser super class that is called whenever the start of a tag is encountered.\n",
    "        In this parser, it keeps track of the last start tag that was encountered.\n",
    "        :param tag: Current tag being parsed (ex: p, div, code, etc.)\n",
    "        :type tag: str\n",
    "        :param attrs: List of (name,value) pairs containing attributes found inside the tag's brackets\n",
    "        :type attrs: list[str]\n",
    "        '''\n",
    "        assert isinstance(tag,str)\n",
    "        assert isinstance(attrs, list) \n",
    "        \n",
    "        self.lasttag = tag\n",
    "        \n",
    "    def handle_data(self, data): \n",
    "        '''\n",
    "        Method inherited from HTMLParser super class that is called whenever data inside of a tag is encountered.\n",
    "        In this parser, it saves blocks of code to the field variable self.code and records all text with HTML tags removed\n",
    "        :param data: Current data inside of a tag being parsed\n",
    "        :type tag: str\n",
    "        '''\n",
    "        assert isinstance(data,str)\n",
    "        \n",
    "        # If the last tag encountered was a <code> tag, append the contents to the list of code blocks\n",
    "        if self.lasttag == \"code\":\n",
    "            self.lasttag = None\n",
    "            self.code_blocks.append(data)\n",
    "        else:  \n",
    "            self.text_no_code.write(data)\n",
    "            \n",
    "        # Record text between tags\n",
    "        self.text.write(data)\n",
    "        \n",
    "    def get_data(self):\n",
    "        '''\n",
    "        Returns parsed text without HTML tags \n",
    "        :return: Text wihtout tags\n",
    "        :type return: str\n",
    "        '''\n",
    "        return self.text.getvalue()\n",
    "    \n",
    "    def get_data_no_code(self):\n",
    "        '''\n",
    "        Returns parsed text without HTML tags and with code blocks removed\n",
    "        :return: Text wihtout tags\n",
    "        :type return: str\n",
    "        '''\n",
    "        return self.text_no_code.getvalue()\n",
    "    \n",
    "def strip_tags(html):\n",
    "    '''\n",
    "    Takes in a body of text that is formatted in HTML and returns the same text with the HTML tags now removed. \n",
    "    This method bundles the process of instantiating a parser, feeding the data, and returning the parsed output.\n",
    "    :param html: HTML-formatted body of text\n",
    "    :type html: str\n",
    "    :return: The input text now without HTML tags\n",
    "    :type return: str\n",
    "    '''\n",
    "    assert isinstance(html,str)\n",
    "    \n",
    "    # Feed text into parser and return parsed text without tags\n",
    "    s = StackOverflowParser()\n",
    "    s.feed(html)\n",
    "    return s.get_data()\n",
    "\n",
    "def get_text_no_code(html):\n",
    "    '''\n",
    "    Takes in a body of text that is formatted in HTML and returns the same text with the HTML tags and blocks of code now removed. \n",
    "    This method bundles the process of instantiating a parser, feeding the data, and returning the parsed output.\n",
    "    :param html: HTML-formatted body of text\n",
    "    :type html: str\n",
    "    :return: The input text now without HTML tags or code blocks\n",
    "    :type return: str\n",
    "    '''\n",
    "    assert isinstance(html,str)\n",
    "    \n",
    "    # Feed text into parser and return parsed text without tags\n",
    "    s = StackOverflowParser()\n",
    "    s.feed(html)\n",
    "    return s.get_data_no_code()\n",
    "\n",
    "def get_code(html):\n",
    "    '''\n",
    "    Takes in a body of text that is formatted in HTML and returns the blocks of code found within the text. \n",
    "    This method bundles the process of instantiating a parser, feeding the data, and returning the blocks of code.\n",
    "    An empty list is returned if no <code> tags are found.\n",
    "    :param html: HTML-formatted body of text\n",
    "    :type html: str\n",
    "    :return: List of blocks of code found within text\n",
    "    :type return: list[str]\n",
    "    '''\n",
    "    assert isinstance(html,str)\n",
    "    \n",
    "    s = StackOverflowParser()\n",
    "    s.feed(html) \n",
    "    return [item.replace('\\n', ' ') for item in s.code_blocks]\n",
    "            "
   ]
  },
  {
   "cell_type": "code",
   "execution_count": null,
   "metadata": {},
   "outputs": [],
   "source": [
    "import pandas as pd\n",
    "\n",
    "# File paths\n",
    "file_questions = 'Questions.csv'\n",
    "file_answers = 'Answers.csv'\n",
    "\n",
    "# Load dataframes (only loading first 10000 rows for now to reduce processing time)\n",
    "questions_df = pd.read_csv(file_questions, nrows=10000, encoding = 'iso-8859-1')\n",
    "answers_df = pd.read_csv(file_answers, nrows=10000, encoding = 'iso-8859-1')"
   ]
  },
  {
   "cell_type": "code",
   "execution_count": null,
   "metadata": {},
   "outputs": [],
   "source": [
    "# Add extra columns to dataframes\n",
    "# This takes a long time (~10 minutes) to process the entire dataset\n",
    "# Might be worth exploring the pandas to_pickle() method for saving/loading the dataframes\n",
    "questions_df['Body_no_tags']=questions_df['Body'].apply(strip_tags)\n",
    "questions_df['Body_no_tags_no_code']=questions_df['Body'].apply(get_text_no_code)\n",
    "questions_df['Body_code']=questions_df['Body'].apply(get_code)\n",
    "\n",
    "answers_df['Body_no_tags']=answers_df['Body'].apply(strip_tags)\n",
    "answers_df['Body_no_tags_no_code']=answers_df['Body'].apply(get_text_no_code)\n",
    "answers_df['Body_code']=answers_df['Body'].apply(get_code)\n"
   ]
  },
  {
   "cell_type": "code",
   "execution_count": null,
   "metadata": {},
   "outputs": [],
   "source": [
    "# Row 11 in Questions.csv is a good example with a few code blocks\n",
    "body = questions_df['Body'][11]\n",
    "body_no_tags = questions_df['Body_no_tags'][11]\n",
    "body_code = questions_df['Body_code'][11]\n",
    "body_no_tags_no_code = questions_df['Body_no_tags_no_code'][11]"
   ]
  },
  {
   "cell_type": "code",
   "execution_count": null,
   "metadata": {},
   "outputs": [],
   "source": [
    "print(body)"
   ]
  },
  {
   "cell_type": "code",
   "execution_count": null,
   "metadata": {},
   "outputs": [],
   "source": [
    "print(body_no_tags)"
   ]
  },
  {
   "cell_type": "code",
   "execution_count": null,
   "metadata": {},
   "outputs": [],
   "source": [
    "print(body_no_tags_no_code)"
   ]
  },
  {
   "cell_type": "code",
   "execution_count": null,
   "metadata": {},
   "outputs": [],
   "source": [
    "print(body_code)"
   ]
  },
  {
   "cell_type": "code",
   "execution_count": null,
   "metadata": {},
   "outputs": [],
   "source": []
  }
 ],
 "metadata": {
  "kernelspec": {
   "display_name": "Python 3",
   "language": "python",
   "name": "python3"
  },
  "language_info": {
   "codemirror_mode": {
    "name": "ipython",
    "version": 3
   },
   "file_extension": ".py",
   "mimetype": "text/x-python",
   "name": "python",
   "nbconvert_exporter": "python",
   "pygments_lexer": "ipython3",
   "version": "3.8.3"
  }
 },
 "nbformat": 4,
 "nbformat_minor": 4
}
