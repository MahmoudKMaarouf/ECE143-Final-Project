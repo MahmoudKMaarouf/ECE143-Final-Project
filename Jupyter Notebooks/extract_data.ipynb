{
 "cells": [
  {
   "cell_type": "code",
   "execution_count": 1,
   "metadata": {},
   "outputs": [],
   "source": [
    "from io import StringIO\n",
    "from html.parser import HTMLParser     \n",
    "        \n",
    "class StackOverflowParser(HTMLParser):\n",
    "    def __init__(self):\n",
    "        super().__init__()\n",
    "        self.strict = False # If any invalid html is encountered, parser will make a best guess at its intention\n",
    "        self.convert_charrefs= True # Hold data section until next tag is encountered\n",
    "        \n",
    "        # Field variable to keep track of parsed data with tags removed\n",
    "        self.text = StringIO()\n",
    "        self.text_no_code = StringIO()\n",
    "        \n",
    "        # Field variables to keep track of and store <code></code> blocks\n",
    "        self.code_blocks = []\n",
    "        self.lasttag = None\n",
    "        \n",
    "    def handle_starttag(self, tag, attrs):\n",
    "        '''\n",
    "        Method inherited from HTMLParser super class that is called whenever the start of a tag is encountered.\n",
    "        In this parser, it keeps track of the last start tag that was encountered.\n",
    "        :param tag: Current tag being parsed (ex: p, div, code, etc.)\n",
    "        :type tag: str\n",
    "        :param attrs: List of (name,value) pairs containing attributes found inside the tag's brackets\n",
    "        :type attrs: list[str]\n",
    "        '''\n",
    "        assert isinstance(tag,str)\n",
    "        assert isinstance(attrs, list) \n",
    "        \n",
    "        self.lasttag = tag\n",
    "        \n",
    "    def handle_data(self, data): \n",
    "        '''\n",
    "        Method inherited from HTMLParser super class that is called whenever data inside of a tag is encountered.\n",
    "        In this parser, it saves blocks of code to the field variable self.code and records all text with HTML tags removed\n",
    "        :param data: Current data inside of a tag being parsed\n",
    "        :type tag: str\n",
    "        '''\n",
    "        assert isinstance(data,str)\n",
    "        \n",
    "        # If the last tag encountered was a <code> tag, append the contents to the list of code blocks\n",
    "        if self.lasttag == \"code\":\n",
    "            self.lasttag = None\n",
    "            self.code_blocks.append(data)\n",
    "        else:  \n",
    "            self.text_no_code.write(data)\n",
    "            \n",
    "        # Record text between tags\n",
    "        self.text.write(data)\n",
    "        \n",
    "    def get_data(self):\n",
    "        '''\n",
    "        Returns parsed text without HTML tags \n",
    "        :return: Text wihtout tags\n",
    "        :type return: str\n",
    "        '''\n",
    "        return self.text.getvalue()\n",
    "    \n",
    "    def get_data_no_code(self):\n",
    "        '''\n",
    "        Returns parsed text without HTML tags and with code blocks removed\n",
    "        :return: Text wihtout tags\n",
    "        :type return: str\n",
    "        '''\n",
    "        return self.text_no_code.getvalue()\n",
    "    \n",
    "def strip_tags(html):\n",
    "    '''\n",
    "    Takes in a body of text that is formatted in HTML and returns the same text with the HTML tags now removed. \n",
    "    This method bundles the process of instantiating a parser, feeding the data, and returning the parsed output.\n",
    "    :param html: HTML-formatted body of text\n",
    "    :type html: str\n",
    "    :return: The input text now without HTML tags\n",
    "    :type return: str\n",
    "    '''\n",
    "    assert isinstance(html,str)\n",
    "    \n",
    "    # Feed text into parser and return parsed text without tags\n",
    "    s = StackOverflowParser()\n",
    "    s.feed(html)\n",
    "    return s.get_data()\n",
    "\n",
    "def get_text_no_code(html):\n",
    "    '''\n",
    "    Takes in a body of text that is formatted in HTML and returns the same text with the HTML tags and blocks of code now removed. \n",
    "    This method bundles the process of instantiating a parser, feeding the data, and returning the parsed output.\n",
    "    :param html: HTML-formatted body of text\n",
    "    :type html: str\n",
    "    :return: The input text now without HTML tags or code blocks\n",
    "    :type return: str\n",
    "    '''\n",
    "    assert isinstance(html,str)\n",
    "    \n",
    "    # Feed text into parser and return parsed text without tags\n",
    "    s = StackOverflowParser()\n",
    "    s.feed(html)\n",
    "    return s.get_data_no_code()\n",
    "\n",
    "def get_code(html):\n",
    "    '''\n",
    "    Takes in a body of text that is formatted in HTML and returns the blocks of code found within the text. \n",
    "    This method bundles the process of instantiating a parser, feeding the data, and returning the blocks of code.\n",
    "    An empty list is returned if no <code> tags are found.\n",
    "    :param html: HTML-formatted body of text\n",
    "    :type html: str\n",
    "    :return: List of blocks of code found within text\n",
    "    :type return: list[str]\n",
    "    '''\n",
    "    assert isinstance(html,str)\n",
    "    \n",
    "    s = StackOverflowParser()\n",
    "    s.feed(html) \n",
    "    return [item.replace('\\n', ' ') for item in s.code_blocks]\n",
    "            "
   ]
  },
  {
   "cell_type": "code",
   "execution_count": null,
   "metadata": {},
   "outputs": [],
   "source": [
    "from kaggle.api.kaggle_api_extended import KaggleApi\n",
    "\n",
    "# Import the dataset directly from Kaggle \n",
    "# Requires a Kaggle account linked to an API key on your device \n",
    "api = KaggleApi()\n",
    "api.authenticate()\n",
    "api.dataset_download_files('stackoverflow/pythonquestions', path='./', unzip=True)"
   ]
  },
  {
   "cell_type": "code",
   "execution_count": 2,
   "metadata": {},
   "outputs": [],
   "source": [
    "import pandas as pd\n",
    "\n",
    "# File Paths \n",
    "file_questions = 'Questions.csv'\n",
    "file_answers = 'Answers.csv'\n",
    "file_tags = 'Tags.csv'\n",
    "\n",
    "dates = [\"CreationDate\"]\n",
    "\n",
    "# Load dataframes (only loading first 10000 rows for now to reduce processing time)\n",
    "questions_df = pd.read_csv(file_questions, encoding = 'iso-8859-1', nrows=10000, parse_dates=dates)\n",
    "answers_df = pd.read_csv(file_answers, encoding = 'iso-8859-1', nrows=10000, parse_dates=dates)\n",
    "tags_df = pd.read_csv(file_tags, encoding = 'iso-8859-1', nrows=10000)"
   ]
  },
  {
   "cell_type": "code",
   "execution_count": 3,
   "metadata": {},
   "outputs": [],
   "source": [
    "# Add extra columns to dataframes\n",
    "# This takes a long time (~10 minutes) to process the entire dataset\n",
    "# Might be worth exploring the pandas to_pickle() method for saving/loading the dataframes\n",
    "\n",
    "questions_df = questions_df.fillna('')\n",
    "#questions_df['Body_no_tags']=questions_df['Body'].apply(strip_tags)\n",
    "questions_df['Body_no_tags_no_code']=questions_df['Body'].apply(get_text_no_code)\n",
    "#questions_df['Body_code']=questions_df['Body'].apply(get_code)\n",
    "\n",
    "#answers_df['Body_no_tags']=answers_df['Body'].apply(strip_tags)\n",
    "answers_df['Body_no_tags_no_code']=answers_df['Body'].apply(get_text_no_code)\n",
    "#answers_df['Body_code']=answers_df['Body'].apply(get_code)"
   ]
  },
  {
   "cell_type": "code",
   "execution_count": 10,
   "metadata": {},
   "outputs": [],
   "source": [
    "# Creates one database with every question linked to every answer\n",
    "# For questions with no answer the values are NaN\n",
    "suffixes = ['.q', '.a']\n",
    "excess_columns = ['OwnerUserId.q', 'Id.a', 'OwnerUserId.a','ParentId', 'Body.q','CreationDate.a', 'Body.a']\n",
    "QA_df = questions_df.merge(answers_df, how='left', left_on='Id', right_on='ParentId', suffixes=suffixes).drop(excess_columns , axis=1)\n",
    "\n",
    "# Merges the questions/answers with all the associated tags \n",
    "QAT_df = QA_df.merge(tags_df, how='left', left_on='Id.q', right_on='Id', suffixes=['', '.t']).drop('Id', axis=1)\n",
    "QAT_df = QAT_df.fillna('')\n",
    "\n",
    "# Groups all the questions together with a list of all the answers scores and body\n",
    "# Includes the tags as well \n",
    "# Uses a set- might be an issue for pairing the answer scores to the answers\n",
    "QAT_list = QAT_df.groupby('Id.q').agg(Id=('Id.q', 'max'),\n",
    "                                      CreationDate=('CreationDate.q', 'max'),\n",
    "                                      Q_Score=('Score.q', 'mean'),\n",
    "                                      Title=('Title', 'max'),\n",
    "                                      Q_Body=('Body_no_tags_no_code.q', 'max'),\n",
    "                                      A_Score=('Score.a', lambda x: set(x)),\n",
    "                                      A_Body=('Body_no_tags_no_code.a', lambda x: set(x)),\n",
    "                                      Tags=('Tag', lambda x: set(x)))\n",
    "QAT_list.A_Body = QAT_list.A_Body.apply(lambda s: ' '.join(s)) # Turns the set of Answers into a str"
   ]
  },
  {
   "cell_type": "code",
   "execution_count": 11,
   "metadata": {},
   "outputs": [
    {
     "data": {
      "text/plain": [
       "\"open up a terminal (Applications->Utilities->Terminal) and type this in:\\r\\n\\r\\n\\r\\n\\r\\nThis will spit out every file that has the name you want.\\r\\n\\r\\nWarning: there may be alot to wade through. Unfortunately the only API that isn't deprecated is located in the ApplicationServices framework, which doesn't have a bridge support file, and thus isn't available in the bridge. If you're wanting to use ctypes, you can use ATSFontGetFileReference after looking up the ATSFontRef.\\r\\n\\r\\nCocoa doesn't have any native support, at least as of 10.5, for getting the location of a font. I haven't been able to find anything that does this directly.  I think you'll have to iterate through the various font folders on the system: , , and there can probably be a user-level directory as well .\\n There must be a method in Cocoa to get a list of fonts, then you would have to use the PyObjC bindings to call it..\\n\\nDepending on what you need them for, you could probably just use something like the following..\\n\\n\\n\""
      ]
     },
     "execution_count": 11,
     "metadata": {},
     "output_type": "execute_result"
    }
   ],
   "source": [
    "# Filtering out certain questions\n",
    "QAT_list.iloc[0]['A_Body']"
   ]
  },
  {
   "cell_type": "code",
   "execution_count": null,
   "metadata": {},
   "outputs": [],
   "source": [
    "# Creates one database with every question linked to every answer\n",
    "# Questions with no answers are dropped\n",
    "QA_df = questions_df.merge(answers_df, how='right', left_on='Id', right_on='ParentId', suffixes=suffixes).drop(excess_columns , axis=1)\n",
    "QAT_df = QA_df.merge(tags_df, how='left', left_on='Id.q', right_on='Id', suffixes=['', '.t']).drop('Id', axis=1)"
   ]
  },
  {
   "cell_type": "code",
   "execution_count": null,
   "metadata": {},
   "outputs": [],
   "source": [
    "# Row 11 in Questions.csv is a good example with a few code blocks\n",
    "body = questions_df['Body'][11]\n",
    "body_no_tags = questions_df['Body_no_tags'][11]\n",
    "body_code = questions_df['Body_code'][11]\n",
    "body_no_tags_no_code = questions_df['Body_no_tags_no_code'][11]"
   ]
  },
  {
   "cell_type": "code",
   "execution_count": null,
   "metadata": {},
   "outputs": [],
   "source": [
    "print(body)"
   ]
  },
  {
   "cell_type": "code",
   "execution_count": null,
   "metadata": {},
   "outputs": [],
   "source": [
    "print(questions_df)"
   ]
  },
  {
   "cell_type": "code",
   "execution_count": null,
   "metadata": {},
   "outputs": [],
   "source": [
    "print(body_no_tags_no_code)"
   ]
  },
  {
   "cell_type": "code",
   "execution_count": null,
   "metadata": {},
   "outputs": [],
   "source": [
    "print(body_code)"
   ]
  }
 ],
 "metadata": {
  "kernelspec": {
   "display_name": "Python 3",
   "language": "python",
   "name": "python3"
  },
  "language_info": {
   "codemirror_mode": {
    "name": "ipython",
    "version": 3
   },
   "file_extension": ".py",
   "mimetype": "text/x-python",
   "name": "python",
   "nbconvert_exporter": "python",
   "pygments_lexer": "ipython3",
   "version": "3.9.0"
  }
 },
 "nbformat": 4,
 "nbformat_minor": 4
}
